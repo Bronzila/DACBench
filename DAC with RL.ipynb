{
 "cells": [
  {
   "cell_type": "code",
   "execution_count": 1,
   "metadata": {},
   "outputs": [],
   "source": [
    "import warnings\n",
    "warnings.filterwarnings('ignore')\n",
    "import numpy as np\n",
    "import matplotlib.pyplot as plt\n",
    "plt.rcParams['figure.figsize'] = [12, 6]\n",
    "from chainerrl import wrappers"
   ]
  },
  {
   "cell_type": "code",
   "execution_count": 13,
   "metadata": {},
   "outputs": [],
   "source": [
    "from dacbench.benchmarks import LubyBenchmark\n",
    "from dacbench.wrappers import PerformanceTrackingWrapper\n",
    "from examples.example_utils import make_chainer_dqn"
   ]
  },
  {
   "cell_type": "code",
   "execution_count": 25,
   "metadata": {},
   "outputs": [],
   "source": [
    "# In DACBench, target algorithms are packaged in environments\n",
    "# To use them, either get a default version of the algorithm\n",
    "bench = LubyBenchmark()\n",
    "env = bench.get_environment()\n",
    "# Or the published configuration of the algorithm \n",
    "env = bench.get_benchmark()"
   ]
  },
  {
   "cell_type": "code",
   "execution_count": 26,
   "metadata": {},
   "outputs": [],
   "source": [
    "# The reset method starts each algorithm run and returns the algorithm starting state\n",
    "state = env.reset()"
   ]
  },
  {
   "cell_type": "code",
   "execution_count": 27,
   "metadata": {},
   "outputs": [],
   "source": [
    "# To interact with the environment, use the step method\n",
    "# It sets the hyperparameter(s) to the given value and executes an algorithm step\n",
    "# The next algorithm state and the reward are returned\n",
    "# Done signals if the algorithm run is finished and some environments also return additional information\n",
    "next_state, reward, done, info = env.step(1)"
   ]
  },
  {
   "cell_type": "code",
   "execution_count": 28,
   "metadata": {},
   "outputs": [
    {
     "name": "stdout",
     "output_type": "stream",
     "text": [
      "Total reward was -3.191628710926534\n"
     ]
    }
   ],
   "source": [
    "# An algorithm run (= an episode) with a constant hyperparameter value of 1 looks like this:\n",
    "env.reset()\n",
    "done = False\n",
    "r = 0\n",
    "while not done:\n",
    "    _, reward, done, _ = env.step(0)\n",
    "    r += reward\n",
    "print(f\"Total reward was {r}\")"
   ]
  },
  {
   "cell_type": "code",
   "execution_count": 29,
   "metadata": {},
   "outputs": [],
   "source": [
    "# As an example of a RL agent, we use a minimal DQN implementation from our examples\n",
    "# Not that this amount of episodes is far too little to see real improvements\n",
    "\n",
    "# First make the agent\n",
    "# The environments information on state and action space are used in this case\n",
    "# They are always queried as \"observation_space\" and \"action_space\" \n",
    "# But have different properties according to their type\n",
    "# For more information, see:\n",
    "# Introduction to OpenAI gym https://gym.openai.com/docs/#spaces\n",
    "# Spaces on GitHub https://github.com/openai/gym/tree/master/gym/spaces\n",
    "agent = make_chainer_dqn(env.observation_space.low.size, env.action_space)"
   ]
  },
  {
   "cell_type": "code",
   "execution_count": 30,
   "metadata": {},
   "outputs": [],
   "source": [
    "# The RL library we use needs explicit casting to float32\n",
    "# This can be done with a wrapper\n",
    "env = wrappers.CastObservationToFloat32(env)\n",
    "\n",
    "# Wrappers can also be used in other ways, one example is the performance tracking wrapper we provide\n",
    "# There is no limit as to how many times an environment can be wrapped\n",
    "# The slowdown wrappers cause is negliable compared to the target function runtime on most benchmarks\n",
    "env = PerformanceTrackingWrapper(env)"
   ]
  },
  {
   "cell_type": "code",
   "execution_count": 31,
   "metadata": {},
   "outputs": [
    {
     "name": "stdout",
     "output_type": "stream",
     "text": [
      "Episode 0: reward -4.255132567530982\n",
      "Episode 1: reward -16.380297579054506\n",
      "Episode 2: reward -9.42249323809315\n",
      "Episode 3: reward -13.216807477976523\n",
      "Episode 4: reward -20.318663101566507\n",
      "Episode 5: reward -13.919112200997105\n",
      "Episode 6: reward -18.132911570050787\n",
      "Episode 7: reward -10.640613758136082\n",
      "Episode 8: reward -17.581217172115547\n",
      "Episode 9: reward -7.286266913894455\n"
     ]
    }
   ],
   "source": [
    "for i in range(10):\n",
    "    state = env.reset()\n",
    "    done = False\n",
    "    r = 0\n",
    "    while not done:\n",
    "        action = agent.act_and_train(state, reward)\n",
    "        next_state, reward, done, _ = env.step(action)\n",
    "        r += reward\n",
    "        state = next_state\n",
    "    agent.stop_episode_and_train(state, reward, done=done)\n",
    "    print(f\"Episode {i}: reward {r}\")"
   ]
  },
  {
   "cell_type": "code",
   "execution_count": 32,
   "metadata": {},
   "outputs": [
    {
     "data": {
      "image/png": "[encoded data removed]",
      "text/plain": [
       "<Figure size 864x432 with 1 Axes>"
      ]
     },
     "metadata": {},
     "output_type": "display_data"
    }
   ],
   "source": [
    "# As we used the performance tracking wrapper, we can now immediately visualize the results\n",
    "env.render_performance()"
   ]
  },
  {
   "cell_type": "code",
   "execution_count": null,
   "metadata": {},
   "outputs": [],
   "source": []
  }
 ],
 "metadata": {
  "kernelspec": {
   "display_name": "Python (dac)",
   "language": "python",
   "name": "dac"
  },
  "language_info": {
   "codemirror_mode": {
    "name": "ipython",
    "version": 3
   },
   "file_extension": ".py",
   "mimetype": "text/x-python",
   "name": "python",
   "nbconvert_exporter": "python",
   "pygments_lexer": "ipython3",
   "version": "3.6.10"
  }
 },
 "nbformat": 4,
 "nbformat_minor": 4
}
